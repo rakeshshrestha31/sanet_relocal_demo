{
 "cells": [
  {
   "cell_type": "code",
   "execution_count": 1,
   "metadata": {},
   "outputs": [],
   "source": [
    "import cv2, os, sys, pickle, argparse, shutil, inspect, random, time\n",
    "\n",
    "import numpy as np\n",
    "import matplotlib.pyplot as plt\n",
    "from tqdm import tqdm\n",
    "\n",
    "import torch\n",
    "import torch.nn as nn\n",
    "import torch.nn.functional as F\n",
    "import torchvision.transforms as transforms\n",
    "from torch.utils.data import Dataset, DataLoader\n",
    "torch.manual_seed(666666)\n",
    "\n",
    "sys.path.append('./libs')\n",
    "\n",
    "from relocal.point_feat import *\n",
    "from reloc_pipeline.util_func import *"
   ]
  },
  {
   "cell_type": "markdown",
   "metadata": {},
   "source": [
    "## Configuration\n",
    "set the `7Scenes` dataset directory and test sequence name in `seq_name`."
   ]
  },
  {
   "cell_type": "code",
   "execution_count": 4,
   "metadata": {},
   "outputs": [],
   "source": [
    "dev_id = 0                                # cuda device id\n",
    "\n",
    "top_k = 10                                # top k vlad reterival images\n",
    "repro_thres = 0.75                        # pnp reproject threshold in pixels\n",
    "\n",
    "# dataset\n",
    "base_dir = '/mnt/Exp_1/7scenes/'\n",
    "seq_name = 'heads'\n",
    "\n",
    "# network\n",
    "checkpoint_path = './data/seven_scene_model.pth.tar'"
   ]
  },
  {
   "cell_type": "markdown",
   "metadata": {},
   "source": [
    "## Load network"
   ]
  },
  {
   "cell_type": "code",
   "execution_count": 13,
   "metadata": {},
   "outputs": [],
   "source": [
    "import core_dl.module_util as dl_util\n",
    "from relocal.corres_net import Corres2D3DNet\n",
    "from relocal.vlad_encoder import VLADEncoder\n",
    "\n",
    "torch.cuda.set_device(dev_id)\n",
    "out_dim = (48, 64)\n",
    "frame_dim = (192, 256)\n",
    "\n",
    "# load network\n",
    "with torch.cuda.device(dev_id):\n",
    "    checkpoint = dl_util.load_checkpoints(checkpoint_path)\n",
    "    model = Corres2D3DNet(out_global_feat=512)\n",
    "    model.load_state_dict(checkpoint['net_instance'])\n",
    "    model.cuda()\n",
    "\n",
    "# vlad database for image reterival\n",
    "vlad_db = VLADEncoder(checkpoint_path='data/netvlad_vgg16.tar', dev_id=dev_id)"
   ]
  },
  {
   "cell_type": "code",
   "execution_count": 14,
   "metadata": {},
   "outputs": [
    {
     "name": "stdout",
     "output_type": "stream",
     "text": [
      "Total test frames: 1000\n",
      "Total train frames: 100\n"
     ]
    }
   ],
   "source": [
    "from relocal_data.seven_scene.seven_scene_manual_dataset import SevenSceneManualDataset\n",
    "\n",
    "# read test frames from binary file\n",
    "test_frames_path = os.path.join(base_dir, '%s/test_frames.bin' % seq_name)\n",
    "with open(test_frames_path, 'rb') as f:\n",
    "    test_frames = pickle.load(f, encoding='latin1')\n",
    "print('Total test frames: %d' % len(test_frames))\n",
    "\n",
    "# read train frames from binary file, sampled by skipping 10 frames\n",
    "train_frames_path = os.path.join(base_dir, '%s/train_frames.bin' % seq_name)\n",
    "with open(train_frames_path, 'rb') as f:\n",
    "    sampled_train_frames = pickle.load(f, encoding='latin1')[::10]\n",
    "print('Total train frames: %d' % len(sampled_train_frames))\n",
    "\n",
    "# dataset pre-processing func\n",
    "transform_func = transforms.Normalize(mean=(0.485, 0.456, 0.406), std=(0.229, 0.224, 0.225))"
   ]
  },
  {
   "cell_type": "markdown",
   "metadata": {},
   "source": [
    "### Cache VLAD feature for query image retrieval"
   ]
  },
  {
   "cell_type": "code",
   "execution_count": 19,
   "metadata": {
    "scrolled": true
   },
   "outputs": [
    {
     "name": "stderr",
     "output_type": "stream",
     "text": [
      "100%|██████████| 20/20 [00:04<00:00,  5.73it/s]\n"
     ]
    }
   ],
   "source": [
    "from banet_track.ba_module import x_2d_coords_torch, batched_pi_inv, batched_transpose, batched_inv_pose, batched_pi\n",
    "\n",
    "# load dataset\n",
    "scene_set = SevenSceneManualDataset(base_dir=base_dir,\n",
    "                                    seq_frame_list=sampled_train_frames,\n",
    "                                    transform=transform_func,\n",
    "                                    fill_depth_holes=False,\n",
    "                                    output_dim=(3, 192, 256))\n",
    "scene_loader = DataLoader(scene_set, batch_size=1, num_workers=0, shuffle=False)\n",
    "\n",
    "# add train frames to vlad database\n",
    "x_2d_scene = x_2d_coords_torch(5, frame_dim[0], frame_dim[1]).cuda()\n",
    "x_2d_scene = x_2d_scene.view(5, -1, 2)\n",
    "\n",
    "retrival_scene_feats = []\n",
    "model.eval()\n",
    "for sample_dict in tqdm(scene_loader):\n",
    "    with torch.cuda.device(dev_id):\n",
    "        with torch.no_grad():\n",
    "            scene_rgb = sample_dict['frames_img'].cuda()\n",
    "            scene_depth = sample_dict['frames_depth'].cuda()\n",
    "            scene_K = sample_dict['frames_K'].cuda()\n",
    "            scene_Tcw = sample_dict['frames_Tcw']\n",
    "            scene_ori_rgb = sample_dict['frames_ori_img'].cuda()\n",
    "            scene_input, scene_ori_rgb, X_world, scene_valid_mask, scene_center, rand_R = \\\n",
    "                preprocess_scene(x_2d_scene, scene_rgb, scene_depth, scene_K, scene_Tcw, scene_ori_rgb)\n",
    "            \n",
    "            cur_scene_input = scene_input[0, :, :3, ...]\n",
    "            retrival_scene_feat = vlad_db.forward(cur_scene_input)\n",
    "            retrival_scene_feats += [feat.unsqueeze(0).cpu().numpy() for feat in retrival_scene_feat]"
   ]
  },
  {
   "cell_type": "markdown",
   "metadata": {},
   "source": [
    "## Query a single frame and visualize the scene coordinates "
   ]
  },
  {
   "cell_type": "code",
   "execution_count": 36,
   "metadata": {},
   "outputs": [
    {
     "name": "stdout",
     "output_type": "stream",
     "text": [
      "rot err: 2.963482, translation err: 0.051411\n"
     ]
    }
   ],
   "source": [
    "# visualize one frame \n",
    "from sklearn.metrics.pairwise import cosine_similarity as cos_sim\n",
    "from evaluator.basic_metric import rel_rot_angle, rel_distance\n",
    "import core_3dv.camera_operator as cam_opt\n",
    "\n",
    "x_2d = x_2d_coords_torch(top_k, frame_dim[0], frame_dim[1]).cuda()\n",
    "x_2d = x_2d.view(top_k, -1, 2)\n",
    "pnp_x_2d = cam_opt.x_2d_coords(h=out_dim[0], w=out_dim[1])\n",
    "\n",
    "q_idx = 500\n",
    "# for q_idx in tqdm(range(0, len(test_frames), 1)):\n",
    "\n",
    "# Step 1: find top-k neighbor frames of a given query frame -----------------------------------\n",
    "q_frame = test_frames[q_idx]\n",
    "q_set = SevenSceneManualDataset(base_dir=base_dir,\n",
    "                                seq_frame_list=[q_frame],\n",
    "                                transform=transform_func,\n",
    "                                fill_depth_holes=False,\n",
    "                                output_dim=(3, 192, 256),\n",
    "                                nsample_per_group=1)\n",
    "q_loader = DataLoader(q_set, batch_size=1, num_workers=0, shuffle=False)\n",
    "\n",
    "with torch.cuda.device(dev_id):\n",
    "    with torch.no_grad():\n",
    "        sample_dict = next(iter(q_loader))\n",
    "        query_img = sample_dict['frames_img']\n",
    "        query_ori_img = sample_dict['frames_ori_img']\n",
    "        query_depth = sample_dict['frames_depth'].cuda()\n",
    "        query_Tcw = sample_dict['frames_Tcw']\n",
    "        ori_query_K = sample_dict['frames_K'].clone().cuda()\n",
    "\n",
    "        query_img = query_img.squeeze(1)\n",
    "        query_ori_img = query_ori_img.squeeze(1)\n",
    "        query_depth = query_depth.squeeze(1)\n",
    "        query_Tcw = query_Tcw.squeeze(1)\n",
    "        ori_query_K = ori_query_K.squeeze(1)\n",
    "\n",
    "        query_img, query_X_world, valid_mask, query_ori_img, scene_center, query_Tcw, query_K, rand_R = \\\n",
    "            preprocess_query(query_img, query_depth, query_ori_img, query_Tcw, ori_query_K, scene_center, rand_R, out_dim)\n",
    "        seq_feat = vlad_db.forward(query_img)\n",
    "\n",
    "# determine top-K\n",
    "n_feat = seq_feat.shape[1]\n",
    "\n",
    "scene_feats = retrival_scene_feats\n",
    "n_scenes = len(scene_feats)\n",
    "\n",
    "dist = [cos_sim(seq_feat, scene_feats[idx]) for idx in range(n_scenes)]\n",
    "dist = np.asarray(dist).ravel()\n",
    "sorted_indices = np.argsort((1-dist))\n",
    "\n",
    "top_k_frames = [sampled_train_frames[idx] for idx in sorted_indices[:10]]\n",
    "\n",
    "# Step 2: build the scene representatio --------------------------------------------------------\n",
    "scene_set = SevenSceneManualDataset(base_dir=base_dir,\n",
    "                                    seq_frame_list=top_k_frames,\n",
    "                                    transform=transform_func,\n",
    "                                    fill_depth_holes=False,\n",
    "                                    output_dim=(3, 192, 256),\n",
    "                                    nsample_per_group=10)\n",
    "scene_loader = DataLoader(scene_set, batch_size=1, num_workers=0, shuffle=False)\n",
    "\n",
    "with torch.cuda.device(dev_id):\n",
    "    with torch.no_grad():\n",
    "        sample_dict = next(iter(scene_loader))\n",
    "        scene_rgb = sample_dict['frames_img'].cuda()\n",
    "        scene_depth = sample_dict['frames_depth'].cuda()\n",
    "        scene_K = sample_dict['frames_K'].cuda()\n",
    "        scene_Tcw = sample_dict['frames_Tcw']\n",
    "        scene_ori_rgb = sample_dict['frames_ori_img'].cuda()\n",
    "        scene_input, scene_ori_rgb, X_world, scene_valid_mask, scene_center, rand_R = \\\n",
    "            preprocess_scene(x_2d, scene_rgb, scene_depth, scene_K, scene_Tcw, scene_ori_rgb)\n",
    "\n",
    "        model.eval()\n",
    "        model.clear_scene_cache()\n",
    "        for j in range(scene_input.shape[1] // 5):\n",
    "            cur_scene_input = scene_input[:, j*5:(j+1)*5, ...]\n",
    "            cur_scene_valid_mask = scene_valid_mask[:, j*5:(j+1)*5, ...]\n",
    "            model.add_to_scene_cache(cur_scene_input, cur_scene_valid_mask)\n",
    "        model.prepare_query()\n",
    "\n",
    "# Step 3: predict the query pose ---------------------------------------------------------------\n",
    "q_set = SevenSceneManualDataset(base_dir=base_dir,\n",
    "                                seq_frame_list=[q_frame],\n",
    "                                transform=transform_func,\n",
    "                                fill_depth_holes=False,\n",
    "                                output_dim=(3, 192, 256),\n",
    "                                nsample_per_group=1)\n",
    "q_loader = DataLoader(q_set, batch_size=1, num_workers=0, shuffle=False)\n",
    "\n",
    "# predict scene coordinate 'pred_X_world'\n",
    "with torch.cuda.device(dev_id):\n",
    "    with torch.no_grad():\n",
    "        sample_dict = next(iter(q_loader))\n",
    "        query_img = sample_dict['frames_img']\n",
    "        query_ori_img = sample_dict['frames_ori_img']\n",
    "        query_depth = sample_dict['frames_depth'].cuda()\n",
    "        query_Tcw = sample_dict['frames_Tcw']\n",
    "        ori_query_K = sample_dict['frames_K'].clone().cuda()\n",
    "\n",
    "        query_img = query_img.squeeze(1)\n",
    "        query_ori_img = query_ori_img.squeeze(1)\n",
    "        query_depth = query_depth.squeeze(1)\n",
    "        query_Tcw = query_Tcw.squeeze(1)\n",
    "        ori_query_K = ori_query_K.squeeze(1)\n",
    "\n",
    "        query_img, query_X_world, valid_mask, query_ori_img, scene_center, query_Tcw, query_K, rand_R = \\\n",
    "            preprocess_query(query_img, query_depth, query_ori_img, query_Tcw, ori_query_K, scene_center, rand_R, out_dim)\n",
    "\n",
    "        pred_X_world, _, _ = model.query_forward(query_img)\n",
    "\n",
    "# compute pose by pnp and evaluate with ground-truth pose 'query_Tcw' \n",
    "R_acc, t_acc, pnp_pose = compute_pose_lm_pnp(query_Tcw, \n",
    "                                             pred_X_world[-1],\n",
    "                                             rand_R, \n",
    "                                             scene_center, \n",
    "                                             query_K,\n",
    "                                             pnp_x_2d,\n",
    "                                             repro_thres=repro_thres)\n",
    "\n",
    "print('rot err: %f, translation err: %f' % (R_acc, t_acc))"
   ]
  },
  {
   "cell_type": "markdown",
   "metadata": {},
   "source": [
    "### Visualize Results"
   ]
  },
  {
   "cell_type": "code",
   "execution_count": 35,
   "metadata": {
    "scrolled": true
   },
   "outputs": [
    {
     "data": {
      "application/vnd.jupyter.widget-view+json": {
       "model_id": "c3d30452e734431aad34d615df4d7a9d",
       "version_major": 2,
       "version_minor": 0
      },
      "text/plain": [
       "interactive(children=(FloatSlider(value=0.25, description='err_thres', max=1.0, step=0.05), Output()), _dom_cl…"
      ]
     },
     "metadata": {},
     "output_type": "display_data"
    }
   ],
   "source": [
    "from ipywidgets import interact\n",
    "# visualize predicted scene coordinate map\n",
    "@interact(err_thres=(0, 1.0, 0.05))\n",
    "def vis_error_map(err_thres=0.25):\n",
    "    heatmap_vis = accuracy_heatmap(query_ori_img, \n",
    "                                   pred_X_world[4],\n",
    "                                   query_X_world[4], \n",
    "                                   dist_range=(0, err_thres),\n",
    "                                   frame_dim=frame_dim, out_dim=(48, 64))\n",
    "    \n",
    "    X_3d_vis = make_grid([pred_X_world[4][0].detach(),\n",
    "                          query_X_world[4][0].detach()], \n",
    "                         nrow=2, padding=0, normalize=True, scale_each=False)\n",
    "    C, H, W = X_3d_vis.shape\n",
    "    \n",
    "    fig, ax = plt.subplots(1, 4, figsize=(30, 10))\n",
    "    ax[0].imshow(query_ori_img.permute(0, 2, 3, 1).squeeze(0).cpu().numpy())\n",
    "    ax[0].set_title('Query')\n",
    "    \n",
    "    ax[1].imshow(X_3d_vis[:, :, :W//2].permute(1, 2, 0).cpu().numpy())\n",
    "    ax[1].set_title('Pred')\n",
    "    \n",
    "    ax[2].imshow(X_3d_vis[:, :, W//2:].permute(1, 2, 0).cpu().numpy())\n",
    "    ax[2].set_title('GT')\n",
    "    \n",
    "    ax[3].imshow(heatmap_vis.permute(0, 2, 3, 1).squeeze(0).cpu().numpy())\n",
    "    ax[3].set_title('Acc. (thres < %f)' % err_thres)\n",
    "    plt.show()"
   ]
  },
  {
   "cell_type": "code",
   "execution_count": 49,
   "metadata": {
    "scrolled": false
   },
   "outputs": [
    {
     "data": {
      "application/vnd.jupyter.widget-view+json": {
       "model_id": "4e79096381eb44758fc6810fd91e06b4",
       "version_major": 2,
       "version_minor": 0
      },
      "text/plain": [
       "interactive(children=(Checkbox(value=False, description='draw_gt_pts'), Output()), _dom_classes=('widget-inter…"
      ]
     },
     "metadata": {},
     "output_type": "display_data"
    }
   ],
   "source": [
    "# visualize 3D point cloud, requires `ipvolume` lib to be installed \n",
    "pred_pts = F.interpolate(pred_X_world[-1], scale_factor=4, mode='nearest')\n",
    "pred_pts = pred_pts.permute(0, 2, 3, 1).squeeze(0).cpu().numpy()\n",
    "gt_pts = F.interpolate(query_X_world[-1], scale_factor=4, mode='nearest')\n",
    "gt_pts = gt_pts.permute(0, 2, 3, 1).squeeze(0).cpu().numpy()\n",
    "colors = query_ori_img.permute(0, 2, 3, 1).squeeze(0).cpu().numpy()\n",
    "\n",
    "@interact(draw_gt_pts=False)\n",
    "def func(draw_gt_pts=False):\n",
    "    ipv_prepare(ipv)\n",
    "    if draw_gt_pts:\n",
    "        ipv_draw_point_cloud(ipv, gt_pts, colors, pt_size=5)\n",
    "    else:\n",
    "        ipv_draw_point_cloud(ipv, pred_pts, colors, pt_size=5)\n",
    "\n",
    "    ipv.xyzlim(2)\n",
    "    ipv.show()"
   ]
  },
  {
   "cell_type": "markdown",
   "metadata": {},
   "source": [
    "### Test a sequences"
   ]
  },
  {
   "cell_type": "code",
   "execution_count": 20,
   "metadata": {
    "scrolled": false
   },
   "outputs": [
    {
     "name": "stderr",
     "output_type": "stream",
     "text": [
      "100%|██████████| 1000/1000 [13:49<00:00,  1.23it/s]\n"
     ]
    },
    {
     "name": "stdout",
     "output_type": "stream",
     "text": [
      "# eval (5 deg, 5cm):\n",
      "total: 1000.0    rot<5.0 & trans<0.05: 821    rot>5.0 or trans>0.1: 0\n",
      "rot<5.0 & trans<0.05 ratio: 0.821    rot>5.0 or trans>0.1 ratio: 0.0\n",
      "# eval (median):\n",
      "rot median: 1.446954891738978    trans median: 0.022983998\n",
      "# eval (avg. scene coordinate accuracy)\n",
      " 5cm: tensor(0.9718, device='cuda:0')  2.5cm: tensor(0.9133, device='cuda:0')  1cm: tensor(0.7591, device='cuda:0')\n"
     ]
    },
    {
     "data": {
      "image/png": "[encoded data removed]",
      "text/plain": [
       "<Figure size 1080x720 with 4 Axes>"
      ]
     },
     "metadata": {
      "needs_background": "light"
     },
     "output_type": "display_data"
    }
   ],
   "source": [
    "from sklearn.metrics.pairwise import cosine_similarity as cos_sim\n",
    "from evaluator.basic_metric import rel_rot_angle, rel_distance\n",
    "import core_3dv.camera_operator as cam_opt\n",
    "\n",
    "x_2d = x_2d_coords_torch(top_k, frame_dim[0], frame_dim[1]).cuda()\n",
    "x_2d = x_2d.view(top_k, -1, 2)\n",
    "pnp_x_2d = cam_opt.x_2d_coords(h=out_dim[0], w=out_dim[1])\n",
    "\n",
    "# evaluations (pose)\n",
    "succ_count = 0\n",
    "R_accs, t_accs, pnp_poses = [], [], []\n",
    "\n",
    "# evluation (scene coordinate accuracy)\n",
    "pred_scene_coord_acc = {\n",
    "    '1cm': 0.0,\n",
    "    '2.5cm': 0.0,\n",
    "    '5cm': 0.0\n",
    "}\n",
    "\n",
    "for q_idx in tqdm(range(0, len(test_frames), 1)):\n",
    "    \n",
    "    # Step 1: find top-k neighbor frames of a given query frame ---------------------------------\n",
    "    q_frame = test_frames[q_idx]\n",
    "    q_set = SevenSceneManualDataset(base_dir=base_dir,\n",
    "                                    seq_frame_list=[q_frame],\n",
    "                                    transform=transform_func,\n",
    "                                    fill_depth_holes=False,\n",
    "                                    output_dim=(3, 192, 256),\n",
    "                                    nsample_per_group=1)\n",
    "    q_loader = DataLoader(q_set, batch_size=1, num_workers=0, shuffle=False)\n",
    "\n",
    "    with torch.cuda.device(dev_id):\n",
    "        with torch.no_grad():\n",
    "            sample_dict = next(iter(q_loader))\n",
    "            query_img = sample_dict['frames_img']\n",
    "            query_ori_img = sample_dict['frames_ori_img']\n",
    "            query_depth = sample_dict['frames_depth'].cuda()\n",
    "            query_Tcw = sample_dict['frames_Tcw']\n",
    "            ori_query_K = sample_dict['frames_K'].clone().cuda()\n",
    "            \n",
    "            query_img = query_img.squeeze(1)\n",
    "            query_ori_img = query_ori_img.squeeze(1)\n",
    "            query_depth = query_depth.squeeze(1)\n",
    "            query_Tcw = query_Tcw.squeeze(1)\n",
    "            ori_query_K = ori_query_K.squeeze(1)\n",
    "\n",
    "            query_img, query_X_world, valid_mask, query_ori_img, scene_center, query_Tcw, query_K, rand_R = \\\n",
    "                preprocess_query(query_img, query_depth, query_ori_img, query_Tcw, ori_query_K, scene_center, rand_R, out_dim)\n",
    "            seq_feat = vlad_db.forward(query_img)\n",
    "\n",
    "    # determine top-K\n",
    "    n_feat = seq_feat.shape[1]\n",
    "\n",
    "    scene_feats = retrival_scene_feats\n",
    "    n_scenes = len(scene_feats)\n",
    "    \n",
    "    dist = [cos_sim(seq_feat, scene_feats[idx]) for idx in range(n_scenes)]\n",
    "    dist = np.asarray(dist).ravel()\n",
    "    sorted_indices = np.argsort((1-dist))\n",
    "    \n",
    "    top_k_frames = [sampled_train_frames[idx] for idx in sorted_indices[:10]]\n",
    "    \n",
    "    # Step 2: build the scene representation ----------------------------------------------------\n",
    "    scene_set = SevenSceneManualDataset(base_dir=base_dir,\n",
    "                                        seq_frame_list=top_k_frames,\n",
    "                                        transform=transform_func,\n",
    "                                        fill_depth_holes=False,\n",
    "                                        output_dim=(3, 192, 256),\n",
    "                                        nsample_per_group=10)\n",
    "    scene_loader = DataLoader(scene_set, batch_size=1, num_workers=0, shuffle=False)\n",
    "    \n",
    "    with torch.cuda.device(dev_id):\n",
    "        with torch.no_grad():\n",
    "            sample_dict = next(iter(scene_loader))\n",
    "            scene_rgb = sample_dict['frames_img'].cuda()\n",
    "            scene_depth = sample_dict['frames_depth'].cuda()\n",
    "            scene_K = sample_dict['frames_K'].cuda()\n",
    "            scene_Tcw = sample_dict['frames_Tcw']\n",
    "            scene_ori_rgb = sample_dict['frames_ori_img'].cuda()\n",
    "            scene_input, scene_ori_rgb, X_world, scene_valid_mask, scene_center, rand_R = \\\n",
    "                preprocess_scene(x_2d, scene_rgb, scene_depth, scene_K, scene_Tcw, scene_ori_rgb)\n",
    "\n",
    "            model.eval()\n",
    "            model.clear_scene_cache()\n",
    "            for j in range(scene_input.shape[1] // 5):\n",
    "                cur_scene_input = scene_input[:, j*5:(j+1)*5, ...]\n",
    "                cur_scene_valid_mask = scene_valid_mask[:, j*5:(j+1)*5, ...]\n",
    "                model.add_to_scene_cache(cur_scene_input, cur_scene_valid_mask)\n",
    "            model.prepare_query()\n",
    "    \n",
    "    # Step 3: predict the query pose -----------------------------------------------------------\n",
    "    q_set = SevenSceneManualDataset(base_dir=base_dir,\n",
    "                                    seq_frame_list=[q_frame],\n",
    "                                    transform=transform_func,\n",
    "                                    fill_depth_holes=False,\n",
    "                                    output_dim=(3, 192, 256),\n",
    "                                    nsample_per_group=1)\n",
    "    q_loader = DataLoader(q_set, batch_size=1, num_workers=0, shuffle=False)\n",
    "    \n",
    "    # predict scene coordinate 'pred_X_world'\n",
    "    with torch.cuda.device(dev_id):\n",
    "        with torch.no_grad():\n",
    "            sample_dict = next(iter(q_loader))\n",
    "            query_img = sample_dict['frames_img']\n",
    "            query_ori_img = sample_dict['frames_ori_img']\n",
    "            query_depth = sample_dict['frames_depth'].cuda()\n",
    "            query_Tcw = sample_dict['frames_Tcw']\n",
    "            ori_query_K = sample_dict['frames_K'].clone().cuda()\n",
    "            \n",
    "            query_img = query_img.squeeze(1)\n",
    "            query_ori_img = query_ori_img.squeeze(1)\n",
    "            query_depth = query_depth.squeeze(1)\n",
    "            query_Tcw = query_Tcw.squeeze(1)\n",
    "            ori_query_K = ori_query_K.squeeze(1)\n",
    "\n",
    "            query_img, query_X_world, valid_mask, query_ori_img, scene_center, query_Tcw, query_K, rand_R = \\\n",
    "                preprocess_query(query_img, query_depth, query_ori_img, query_Tcw, ori_query_K, scene_center, rand_R, out_dim)\n",
    "\n",
    "            pred_X_world, _, _ = model.query_forward(query_img)\n",
    "    \n",
    "    # compute pose by pnp and evaluate with ground-truth pose 'query_Tcw' \n",
    "    R_acc, t_acc, pnp_pose = compute_pose_lm_pnp(query_Tcw, \n",
    "                                                 pred_X_world[-1],\n",
    "                                                 rand_R, \n",
    "                                                 scene_center, \n",
    "                                                 query_K,\n",
    "                                                 pnp_x_2d,\n",
    "                                                 repro_thres=repro_thres)\n",
    "\n",
    "    \n",
    "    if R_acc >= 180.0:\n",
    "        R_acc -= 360.0\n",
    "        if R_acc < 0.0:\n",
    "            R_acc *= -1.0\n",
    "    \n",
    "    if R_acc < 5.0 and t_acc < 0.05:\n",
    "        succ_count += 1\n",
    "        \n",
    "    R_accs.append(R_acc)\n",
    "    t_accs.append(t_acc)\n",
    "    pnp_poses.append(pnp_pose)\n",
    "    \n",
    "    # measure the scene coordinate accuracy\n",
    "    pred_scene_coord_acc['5cm'] += compute_accuracy(pred_X_world[4], query_X_world[4], valid_mask[4], 0.5)\n",
    "    pred_scene_coord_acc['2.5cm'] += compute_accuracy(pred_X_world[4], query_X_world[4], valid_mask[4], 0.25)\n",
    "    pred_scene_coord_acc['1cm'] += compute_accuracy(pred_X_world[4], query_X_world[4], valid_mask[4], 0.1)\n",
    "    \n",
    "# print statistic info.\n",
    "total = len(test_frames)/1\n",
    "print('# eval (5 deg, 5cm):')\n",
    "print('total:', total, '   rot<5.0 & trans<0.05:', succ_count)\n",
    "print('rot<5.0 & trans<0.05 ratio:', succ_count / total)\n",
    "\n",
    "print('# eval (median):')\n",
    "R_accs_np = np.array(R_accs)\n",
    "R_accs_np[R_accs_np > 20.0] = 21.0\n",
    "t_accs_np = np.array(t_accs)\n",
    "t_accs_np[t_accs_np > 1.0] = 1.05\n",
    "print('rot median:', np.median(R_accs_np), '   trans median:', np.median(t_accs_np))\n",
    "\n",
    "print('# eval (avg. scene coordinate accuracy)')\n",
    "print(' 5cm:', (pred_scene_coord_acc['5cm'] / total).item(), \n",
    "      ' 2.5cm:', (pred_scene_coord_acc['2.5cm'] / total).item(), \n",
    "      ' 1cm:', (pred_scene_coord_acc['1cm'] / total).item())\n",
    "\n",
    "# plot error distribution\n",
    "fig, ax = plt.subplots(2, 2, figsize=(15, 10))\n",
    "ax[0, 0].hist(R_accs_np, bins=(0, 2.5, 5, 7.5, 10, 15, 20, 22))\n",
    "ax[0, 0].set_title('rot err distribution (deg)')\n",
    "\n",
    "ax[0, 1].hist(t_accs_np, bins=(0, 0.05, 0.1, 0.2, 0.3, 0.4, 0.5, 0.7, 0.8, 0.9, 1.0, 1.1))\n",
    "ax[0, 1].set_title('trans err distribution')\n",
    "\n",
    "ax[1, 0].plot(np.arange(0, total), R_accs_np)\n",
    "ax[1, 0].set_title('rot err w.r.t seq frames')\n",
    "\n",
    "ax[1, 1].plot(np.arange(0, total), t_accs_np)\n",
    "ax[1, 1].set_title('trans err w.r.t seq frames')\n",
    "plt.show()"
   ]
  }
 ],
 "metadata": {
  "kernelspec": {
   "display_name": "Python 3",
   "language": "python",
   "name": "python3"
  },
  "language_info": {
   "codemirror_mode": {
    "name": "ipython",
    "version": 3
   },
   "file_extension": ".py",
   "mimetype": "text/x-python",
   "name": "python",
   "nbconvert_exporter": "python",
   "pygments_lexer": "ipython3",
   "version": "3.6.8"
  },
  "latex_envs": {
   "LaTeX_envs_menu_present": true,
   "autoclose": false,
   "autocomplete": true,
   "bibliofile": "biblio.bib",
   "cite_by": "apalike",
   "current_citInitial": 1,
   "eqLabelWithNumbers": true,
   "eqNumInitial": 1,
   "hotkeys": {
    "equation": "Ctrl-E",
    "itemize": "Ctrl-I"
   },
   "labels_anchors": false,
   "latex_user_defs": false,
   "report_style_numbering": false,
   "user_envs_cfg": false
  },
  "varInspector": {
   "cols": {
    "lenName": 16,
    "lenType": 16,
    "lenVar": 40
   },
   "kernels_config": {
    "python": {
     "delete_cmd_postfix": "",
     "delete_cmd_prefix": "del ",
     "library": "var_list.py",
     "varRefreshCmd": "print(var_dic_list())"
    },
    "r": {
     "delete_cmd_postfix": ") ",
     "delete_cmd_prefix": "rm(",
     "library": "var_list.r",
     "varRefreshCmd": "cat(var_dic_list()) "
    }
   },
   "types_to_exclude": [
    "module",
    "function",
    "builtin_function_or_method",
    "instance",
    "_Feature"
   ],
   "window_display": false
  }
 },
 "nbformat": 4,
 "nbformat_minor": 2
}
